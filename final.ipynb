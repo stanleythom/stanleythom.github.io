{
 "cells": [
  {
   "cell_type": "markdown",
   "metadata": {},
   "source": [
    "<h1 style=\"text-align: center;\">App Store Anomolies</h1>\n",
    "<h4 style=\"text-align: center;\">Stanley Thomas</h4>\n",
    "\n",
    "---"
   ]
  },
  {
   "cell_type": "markdown",
   "metadata": {},
   "source": [
    "## Intro"
   ]
  },
  {
   "cell_type": "markdown",
   "metadata": {},
   "source": [
    "Back in 2014, Steven Cravotta developed a simple iOS game to try and \"sharpen [his] coding skillz, and maybe make a quick buck.\" The game's mechanics consisted of constructing as many words as possible from a given set of letters in some time span. The game was by no means a hit success and life for Cravotta continued as normal. Fast forward 6 years later and Cravotta's game has over 8 million downloads on the App Store. His game, titled \"Wordle!\", blew up after a similar web-based game named \"Wordle\" developed by Josh Wardle had come into recent popularity. Cravotta's mobile game had been mistaken for Wardle's game amassing him millions of downloads and a decent amount of revenue as well. \n",
    "\n",
    "Cravotta later decided to donate his earnings to charity, but his success is an example of what many developers dream of when publishing games to the app store. After all, the app market has a valuation of over 170 billion dollars and is composed of many large companies solely devoted to game development. However, building a successful game is not easy. Many have tried and failed to garner the audience or addictiveness needed to make a profit on their games. Advertising has also become more and more important in creating games that people will download and even pay for. \n",
    "\n",
    "As game development becomes a more lucrative industry we can start to ask, what makes a hit game? Is it complex game mechanics or ripping off other hit games? Does game development success lie in rating and reviews or ease of understanding? The goal of this tutorial is to explore these ideas and more as we analyze thousands of games to see what makes them profitable. We will take advantage of a data set containing information on over 17 thousand apps to see what factors go into making a hit game. "
   ]
  },
  {
   "cell_type": "markdown",
   "metadata": {},
   "source": [
    "## Imports\n",
    "\n",
    "In this tutorial, we will make use of a few python libraries, namely [Pandas](https://pandas.pydata.org/docs/) to store and structure our data, [Numpy](https://numpy.org/doc/stable/index.html) to work with our data, and [Matplotlib](https://matplotlib.org/stable/index.html), [Scikit Learn](https://scikit-learn.org/stable/), and [Seaborn](https://seaborn.pydata.org/) to graph and plot our data. We will also make use of Python's [requests](https://docs.python-requests.org/en/latest/) library as well as [BeautifulSoup](https://www.crummy.com/software/BeautifulSoup/bs4/doc/) to show how to scrape webpages to get our data."
   ]
  },
  {
   "cell_type": "code",
   "execution_count": 502,
   "metadata": {},
   "outputs": [],
   "source": [
    "import pandas as pd\n",
    "import numpy as np\n",
    "import matplotlib.pyplot as plt\n",
    "from sklearn import linear_model\n",
    "import seaborn as sns\n",
    "\n",
    "import requests, re\n",
    "from bs4 import BeautifulSoup"
   ]
  },
  {
   "cell_type": "markdown",
   "metadata": {},
   "source": [
    "Once our external libraries have been imported, we can bring in our dataset to be processed and cleaned. We will be using the dataset linked [here](https://www.kaggle.com/datasets/tristan581/17k-apple-app-store-strategy-games). This dataset was created by scraping the Apple App Store based on the sitemap linked [here](https://apps.apple.com/us/genre/ios-games/id6014). The dataset we are using is the result of scraping all strategy games as of 2019. If you wanted to make this tutorial your own, you can scrape a different subsection of the games category such as action or adventure. Below is the code to scrape a single web page into a JSON object with some important information. You can extrapolate this to scrape an entire category of games, or any other app category using the Python requests library and BeautifulSoup. "
   ]
  },
  {
   "cell_type": "markdown",
   "metadata": {},
   "source": [
    "## Data Collection"
   ]
  },
  {
   "cell_type": "code",
   "execution_count": 503,
   "metadata": {},
   "outputs": [],
   "source": [
    "# replace this with the url of the page you want to scrape\n",
    "url = \"https://apps.apple.com/us/app/trivia-puzzle-fortune-games/id1565866365\"\n",
    "\n",
    "r = requests.get(url)\n",
    "soup = BeautifulSoup(r.content, 'html.parser')\n",
    "\n",
    "app_data = soup.find('script', {'id': 'shoebox-media-api-cache-apps'}).contents[0]\n",
    "\n",
    "\n",
    "# parse out important information\n",
    "data = {\n",
    "    'URL': url,\n",
    "    'ID': soup.find('meta', {'name': 'apple:content_id'})['content'],\n",
    "    'Name': soup.find('meta', {'property': 'og:title'})['content'],\n",
    "    'Icon URL': soup.find('meta', {'property': 'og:image'})['content'],\n",
    "    'Description': soup.find('meta', {'property': 'og:description'})['content'],\n",
    "    'Developer': soup.find('span', {'class':'app-privacy__developer-name'}).get_text(),\n",
    "    'Average User Rating': soup.find('span', {'class':'we-customer-ratings__averages__display'}).get_text(),\n",
    "    'User Rating Count': re.search(r'ratingCount\\\\\":(\\d*)', app_data).group(1),\n",
    "    'Price': re.search(r'price\\\\\":(\\d*).\\d*', app_data).group(1),\n",
    "    'Age Rating': re.search(r'name\\\\\":\\\\\"(\\d+\\+)', app_data).group(1),\n",
    "    'Size': re.search(r'size\\\\\":(\\d*)', app_data).group(1)\n",
    "    \n",
    "}"
   ]
  },
  {
   "cell_type": "markdown",
   "metadata": {},
   "source": [
    "For this tutorial we will be using the pre-scraped dataset linked [here](https://www.kaggle.com/datasets/tristan581/17k-apple-app-store-strategy-games). To import this dataset, download the csv file and upload it into your project. If you chose to scrape the data yourself, you will need to export your data as a csv file. Then we can use the code below to create a Pandas dataframe from our csv file to work with later. "
   ]
  },
  {
   "cell_type": "code",
   "execution_count": 504,
   "metadata": {},
   "outputs": [
    {
     "data": {
      "text/html": [
       "<div>\n",
       "<style scoped>\n",
       "    .dataframe tbody tr th:only-of-type {\n",
       "        vertical-align: middle;\n",
       "    }\n",
       "\n",
       "    .dataframe tbody tr th {\n",
       "        vertical-align: top;\n",
       "    }\n",
       "\n",
       "    .dataframe thead th {\n",
       "        text-align: right;\n",
       "    }\n",
       "</style>\n",
       "<table border=\"1\" class=\"dataframe\">\n",
       "  <thead>\n",
       "    <tr style=\"text-align: right;\">\n",
       "      <th></th>\n",
       "      <th>URL</th>\n",
       "      <th>ID</th>\n",
       "      <th>Name</th>\n",
       "      <th>Subtitle</th>\n",
       "      <th>Icon URL</th>\n",
       "      <th>Average User Rating</th>\n",
       "      <th>User Rating Count</th>\n",
       "      <th>Price</th>\n",
       "      <th>In-app Purchases</th>\n",
       "      <th>Description</th>\n",
       "      <th>Developer</th>\n",
       "      <th>Age Rating</th>\n",
       "      <th>Languages</th>\n",
       "      <th>Size</th>\n",
       "      <th>Primary Genre</th>\n",
       "      <th>Genres</th>\n",
       "      <th>Original Release Date</th>\n",
       "      <th>Current Version Release Date</th>\n",
       "    </tr>\n",
       "  </thead>\n",
       "  <tbody>\n",
       "    <tr>\n",
       "      <th>0</th>\n",
       "      <td>https://apps.apple.com/us/app/sudoku/id284921427</td>\n",
       "      <td>284921427</td>\n",
       "      <td>Sudoku</td>\n",
       "      <td>NaN</td>\n",
       "      <td>https://is2-ssl.mzstatic.com/image/thumb/Purpl...</td>\n",
       "      <td>4.0</td>\n",
       "      <td>3553.0</td>\n",
       "      <td>2.99</td>\n",
       "      <td>NaN</td>\n",
       "      <td>Join over 21,000,000 of our fans and download ...</td>\n",
       "      <td>Mighty Mighty Good Games</td>\n",
       "      <td>4+</td>\n",
       "      <td>DA, NL, EN, FI, FR, DE, IT, JA, KO, NB, PL, PT...</td>\n",
       "      <td>15853568.0</td>\n",
       "      <td>Games</td>\n",
       "      <td>Games, Strategy, Puzzle</td>\n",
       "      <td>11/07/2008</td>\n",
       "      <td>30/05/2017</td>\n",
       "    </tr>\n",
       "    <tr>\n",
       "      <th>1</th>\n",
       "      <td>https://apps.apple.com/us/app/reversi/id284926400</td>\n",
       "      <td>284926400</td>\n",
       "      <td>Reversi</td>\n",
       "      <td>NaN</td>\n",
       "      <td>https://is4-ssl.mzstatic.com/image/thumb/Purpl...</td>\n",
       "      <td>3.5</td>\n",
       "      <td>284.0</td>\n",
       "      <td>1.99</td>\n",
       "      <td>NaN</td>\n",
       "      <td>The classic game of Reversi, also known as Oth...</td>\n",
       "      <td>Kiss The Machine</td>\n",
       "      <td>4+</td>\n",
       "      <td>EN</td>\n",
       "      <td>12328960.0</td>\n",
       "      <td>Games</td>\n",
       "      <td>Games, Strategy, Board</td>\n",
       "      <td>11/07/2008</td>\n",
       "      <td>17/05/2018</td>\n",
       "    </tr>\n",
       "    <tr>\n",
       "      <th>2</th>\n",
       "      <td>https://apps.apple.com/us/app/morocco/id284946595</td>\n",
       "      <td>284946595</td>\n",
       "      <td>Morocco</td>\n",
       "      <td>NaN</td>\n",
       "      <td>https://is5-ssl.mzstatic.com/image/thumb/Purpl...</td>\n",
       "      <td>3.0</td>\n",
       "      <td>8376.0</td>\n",
       "      <td>0.00</td>\n",
       "      <td>NaN</td>\n",
       "      <td>Play the classic strategy game Othello (also k...</td>\n",
       "      <td>Bayou Games</td>\n",
       "      <td>4+</td>\n",
       "      <td>EN</td>\n",
       "      <td>674816.0</td>\n",
       "      <td>Games</td>\n",
       "      <td>Games, Board, Strategy</td>\n",
       "      <td>11/07/2008</td>\n",
       "      <td>5/09/2017</td>\n",
       "    </tr>\n",
       "    <tr>\n",
       "      <th>3</th>\n",
       "      <td>https://apps.apple.com/us/app/sudoku-free/id28...</td>\n",
       "      <td>285755462</td>\n",
       "      <td>Sudoku (Free)</td>\n",
       "      <td>NaN</td>\n",
       "      <td>https://is3-ssl.mzstatic.com/image/thumb/Purpl...</td>\n",
       "      <td>3.5</td>\n",
       "      <td>190394.0</td>\n",
       "      <td>0.00</td>\n",
       "      <td>NaN</td>\n",
       "      <td>Top 100 free app for over a year.\\nRated \"Best...</td>\n",
       "      <td>Mighty Mighty Good Games</td>\n",
       "      <td>4+</td>\n",
       "      <td>DA, NL, EN, FI, FR, DE, IT, JA, KO, NB, PL, PT...</td>\n",
       "      <td>21552128.0</td>\n",
       "      <td>Games</td>\n",
       "      <td>Games, Strategy, Puzzle</td>\n",
       "      <td>23/07/2008</td>\n",
       "      <td>30/05/2017</td>\n",
       "    </tr>\n",
       "    <tr>\n",
       "      <th>4</th>\n",
       "      <td>https://apps.apple.com/us/app/senet-deluxe/id2...</td>\n",
       "      <td>285831220</td>\n",
       "      <td>Senet Deluxe</td>\n",
       "      <td>NaN</td>\n",
       "      <td>https://is1-ssl.mzstatic.com/image/thumb/Purpl...</td>\n",
       "      <td>3.5</td>\n",
       "      <td>28.0</td>\n",
       "      <td>2.99</td>\n",
       "      <td>NaN</td>\n",
       "      <td>\"Senet Deluxe - The Ancient Game of Life and A...</td>\n",
       "      <td>RoGame Software</td>\n",
       "      <td>4+</td>\n",
       "      <td>DA, NL, EN, FR, DE, EL, IT, JA, KO, NO, PT, RU...</td>\n",
       "      <td>34689024.0</td>\n",
       "      <td>Games</td>\n",
       "      <td>Games, Strategy, Board, Education</td>\n",
       "      <td>18/07/2008</td>\n",
       "      <td>22/07/2018</td>\n",
       "    </tr>\n",
       "  </tbody>\n",
       "</table>\n",
       "</div>"
      ],
      "text/plain": [
       "                                                 URL         ID  \\\n",
       "0   https://apps.apple.com/us/app/sudoku/id284921427  284921427   \n",
       "1  https://apps.apple.com/us/app/reversi/id284926400  284926400   \n",
       "2  https://apps.apple.com/us/app/morocco/id284946595  284946595   \n",
       "3  https://apps.apple.com/us/app/sudoku-free/id28...  285755462   \n",
       "4  https://apps.apple.com/us/app/senet-deluxe/id2...  285831220   \n",
       "\n",
       "            Name Subtitle                                           Icon URL  \\\n",
       "0         Sudoku      NaN  https://is2-ssl.mzstatic.com/image/thumb/Purpl...   \n",
       "1        Reversi      NaN  https://is4-ssl.mzstatic.com/image/thumb/Purpl...   \n",
       "2        Morocco      NaN  https://is5-ssl.mzstatic.com/image/thumb/Purpl...   \n",
       "3  Sudoku (Free)      NaN  https://is3-ssl.mzstatic.com/image/thumb/Purpl...   \n",
       "4   Senet Deluxe      NaN  https://is1-ssl.mzstatic.com/image/thumb/Purpl...   \n",
       "\n",
       "   Average User Rating  User Rating Count  Price In-app Purchases  \\\n",
       "0                  4.0             3553.0   2.99              NaN   \n",
       "1                  3.5              284.0   1.99              NaN   \n",
       "2                  3.0             8376.0   0.00              NaN   \n",
       "3                  3.5           190394.0   0.00              NaN   \n",
       "4                  3.5               28.0   2.99              NaN   \n",
       "\n",
       "                                         Description  \\\n",
       "0  Join over 21,000,000 of our fans and download ...   \n",
       "1  The classic game of Reversi, also known as Oth...   \n",
       "2  Play the classic strategy game Othello (also k...   \n",
       "3  Top 100 free app for over a year.\\nRated \"Best...   \n",
       "4  \"Senet Deluxe - The Ancient Game of Life and A...   \n",
       "\n",
       "                  Developer Age Rating  \\\n",
       "0  Mighty Mighty Good Games         4+   \n",
       "1          Kiss The Machine         4+   \n",
       "2               Bayou Games         4+   \n",
       "3  Mighty Mighty Good Games         4+   \n",
       "4           RoGame Software         4+   \n",
       "\n",
       "                                           Languages        Size  \\\n",
       "0  DA, NL, EN, FI, FR, DE, IT, JA, KO, NB, PL, PT...  15853568.0   \n",
       "1                                                 EN  12328960.0   \n",
       "2                                                 EN    674816.0   \n",
       "3  DA, NL, EN, FI, FR, DE, IT, JA, KO, NB, PL, PT...  21552128.0   \n",
       "4  DA, NL, EN, FR, DE, EL, IT, JA, KO, NO, PT, RU...  34689024.0   \n",
       "\n",
       "  Primary Genre                             Genres Original Release Date  \\\n",
       "0         Games            Games, Strategy, Puzzle            11/07/2008   \n",
       "1         Games             Games, Strategy, Board            11/07/2008   \n",
       "2         Games             Games, Board, Strategy            11/07/2008   \n",
       "3         Games            Games, Strategy, Puzzle            23/07/2008   \n",
       "4         Games  Games, Strategy, Board, Education            18/07/2008   \n",
       "\n",
       "  Current Version Release Date  \n",
       "0                   30/05/2017  \n",
       "1                   17/05/2018  \n",
       "2                    5/09/2017  \n",
       "3                   30/05/2017  \n",
       "4                   22/07/2018  "
      ]
     },
     "execution_count": 504,
     "metadata": {},
     "output_type": "execute_result"
    }
   ],
   "source": [
    "df = pd.read_csv('./appstore.csv')\n",
    "df.head()"
   ]
  },
  {
   "cell_type": "markdown",
   "metadata": {},
   "source": [
    "## Data Parsing"
   ]
  },
  {
   "cell_type": "markdown",
   "metadata": {},
   "source": [
    "Our dataset has 18 columns:\n",
    "\n",
    "`'URL', 'ID', 'Name', 'Subtitle', 'Icon URL', 'Average User Rating','User Rating Count', 'Price', 'In-app Purchases', 'Description','Developer', 'Age Rating', 'Languages', 'Size', 'Primary Genre','Genres', 'Original Release Date', 'Current Version Release Date'`. \n",
    "\n",
    "The first step is to clean up our data by removing any columns we don't need. We can remove the 'ID' column since it contains information repeated in the 'URL' column, as well as the 'Primary Genre' column since its information is repeated in the 'Genres' column. The 'Subtitle' column contains mostly NaN values so this can be deleted as well. We can also get rid of the 'Original Release Date', 'Current Version Release Date', 'In-app Purchases', and 'User Rating Count' columns since these won't help us in our later analysis. We can use the pandas [drop](https://pandas.pydata.org/docs/reference/api/pandas.DataFrame.drop.html) function to do this with the code below."
   ]
  },
  {
   "cell_type": "code",
   "execution_count": 505,
   "metadata": {},
   "outputs": [],
   "source": [
    "# deletes unnecessary columns\n",
    "df = df.drop(columns=['ID', 'Primary Genre', 'Subtitle', \n",
    "                 'In-app Purchases', 'Original Release Date', 'Current Version Release Date'])"
   ]
  },
  {
   "cell_type": "markdown",
   "metadata": {},
   "source": [
    "While cleaning our data we will also need to create new columns and modify existing ones. Firstly, we need to edit the 'Age Rating' column so the values are numeric and thus can be compared with each other. In terms of the 'Languages' column, it might be interesting to analyze how many languages an app supports so we can add a column called 'num_languages' which counts the number of languages. We also will add a column named 'is_free' containing a boolean value of whether or not an app is free or paid. \n",
    "\n",
    "Lastly, we want to rename our columns for ease of access when doing data analysis. The renaming mainly consists of replacing whitespaces with underscores and removing capitalization in general. After processing our data we are left with 12 columns: \n",
    "\n",
    "`'url', 'name', 'icon_url', 'rating', 'price', 'description',\n",
    "       'developer', 'bytes', 'genres', 'age_rating', 'num_languages'`\n",
    "\n",
    "From here we can begin to analyze our data and explore the relationships within our data. "
   ]
  },
  {
   "cell_type": "code",
   "execution_count": 506,
   "metadata": {},
   "outputs": [
    {
     "data": {
      "text/html": [
       "<div>\n",
       "<style scoped>\n",
       "    .dataframe tbody tr th:only-of-type {\n",
       "        vertical-align: middle;\n",
       "    }\n",
       "\n",
       "    .dataframe tbody tr th {\n",
       "        vertical-align: top;\n",
       "    }\n",
       "\n",
       "    .dataframe thead th {\n",
       "        text-align: right;\n",
       "    }\n",
       "</style>\n",
       "<table border=\"1\" class=\"dataframe\">\n",
       "  <thead>\n",
       "    <tr style=\"text-align: right;\">\n",
       "      <th></th>\n",
       "      <th>url</th>\n",
       "      <th>name</th>\n",
       "      <th>icon_url</th>\n",
       "      <th>rating</th>\n",
       "      <th>num_ratings</th>\n",
       "      <th>price</th>\n",
       "      <th>description</th>\n",
       "      <th>developer</th>\n",
       "      <th>bytes</th>\n",
       "      <th>genres</th>\n",
       "      <th>age_rating</th>\n",
       "      <th>num_languages</th>\n",
       "      <th>is_paid</th>\n",
       "    </tr>\n",
       "  </thead>\n",
       "  <tbody>\n",
       "    <tr>\n",
       "      <th>0</th>\n",
       "      <td>https://apps.apple.com/us/app/sudoku/id284921427</td>\n",
       "      <td>Sudoku</td>\n",
       "      <td>https://is2-ssl.mzstatic.com/image/thumb/Purpl...</td>\n",
       "      <td>4.0</td>\n",
       "      <td>3553.0</td>\n",
       "      <td>2.99</td>\n",
       "      <td>Join over 21,000,000 of our fans and download ...</td>\n",
       "      <td>Mighty Mighty Good Games</td>\n",
       "      <td>15853568.0</td>\n",
       "      <td>Games, Strategy, Puzzle</td>\n",
       "      <td>0</td>\n",
       "      <td>17</td>\n",
       "      <td>True</td>\n",
       "    </tr>\n",
       "    <tr>\n",
       "      <th>1</th>\n",
       "      <td>https://apps.apple.com/us/app/reversi/id284926400</td>\n",
       "      <td>Reversi</td>\n",
       "      <td>https://is4-ssl.mzstatic.com/image/thumb/Purpl...</td>\n",
       "      <td>3.5</td>\n",
       "      <td>284.0</td>\n",
       "      <td>1.99</td>\n",
       "      <td>The classic game of Reversi, also known as Oth...</td>\n",
       "      <td>Kiss The Machine</td>\n",
       "      <td>12328960.0</td>\n",
       "      <td>Games, Strategy, Board</td>\n",
       "      <td>0</td>\n",
       "      <td>1</td>\n",
       "      <td>True</td>\n",
       "    </tr>\n",
       "    <tr>\n",
       "      <th>2</th>\n",
       "      <td>https://apps.apple.com/us/app/morocco/id284946595</td>\n",
       "      <td>Morocco</td>\n",
       "      <td>https://is5-ssl.mzstatic.com/image/thumb/Purpl...</td>\n",
       "      <td>3.0</td>\n",
       "      <td>8376.0</td>\n",
       "      <td>0.00</td>\n",
       "      <td>Play the classic strategy game Othello (also k...</td>\n",
       "      <td>Bayou Games</td>\n",
       "      <td>674816.0</td>\n",
       "      <td>Games, Board, Strategy</td>\n",
       "      <td>0</td>\n",
       "      <td>1</td>\n",
       "      <td>False</td>\n",
       "    </tr>\n",
       "    <tr>\n",
       "      <th>3</th>\n",
       "      <td>https://apps.apple.com/us/app/sudoku-free/id28...</td>\n",
       "      <td>Sudoku (Free)</td>\n",
       "      <td>https://is3-ssl.mzstatic.com/image/thumb/Purpl...</td>\n",
       "      <td>3.5</td>\n",
       "      <td>190394.0</td>\n",
       "      <td>0.00</td>\n",
       "      <td>Top 100 free app for over a year.\\nRated \"Best...</td>\n",
       "      <td>Mighty Mighty Good Games</td>\n",
       "      <td>21552128.0</td>\n",
       "      <td>Games, Strategy, Puzzle</td>\n",
       "      <td>0</td>\n",
       "      <td>17</td>\n",
       "      <td>False</td>\n",
       "    </tr>\n",
       "    <tr>\n",
       "      <th>4</th>\n",
       "      <td>https://apps.apple.com/us/app/senet-deluxe/id2...</td>\n",
       "      <td>Senet Deluxe</td>\n",
       "      <td>https://is1-ssl.mzstatic.com/image/thumb/Purpl...</td>\n",
       "      <td>3.5</td>\n",
       "      <td>28.0</td>\n",
       "      <td>2.99</td>\n",
       "      <td>\"Senet Deluxe - The Ancient Game of Life and A...</td>\n",
       "      <td>RoGame Software</td>\n",
       "      <td>34689024.0</td>\n",
       "      <td>Games, Strategy, Board, Education</td>\n",
       "      <td>0</td>\n",
       "      <td>15</td>\n",
       "      <td>True</td>\n",
       "    </tr>\n",
       "  </tbody>\n",
       "</table>\n",
       "</div>"
      ],
      "text/plain": [
       "                                                 url           name  \\\n",
       "0   https://apps.apple.com/us/app/sudoku/id284921427         Sudoku   \n",
       "1  https://apps.apple.com/us/app/reversi/id284926400        Reversi   \n",
       "2  https://apps.apple.com/us/app/morocco/id284946595        Morocco   \n",
       "3  https://apps.apple.com/us/app/sudoku-free/id28...  Sudoku (Free)   \n",
       "4  https://apps.apple.com/us/app/senet-deluxe/id2...   Senet Deluxe   \n",
       "\n",
       "                                            icon_url  rating  num_ratings  \\\n",
       "0  https://is2-ssl.mzstatic.com/image/thumb/Purpl...     4.0       3553.0   \n",
       "1  https://is4-ssl.mzstatic.com/image/thumb/Purpl...     3.5        284.0   \n",
       "2  https://is5-ssl.mzstatic.com/image/thumb/Purpl...     3.0       8376.0   \n",
       "3  https://is3-ssl.mzstatic.com/image/thumb/Purpl...     3.5     190394.0   \n",
       "4  https://is1-ssl.mzstatic.com/image/thumb/Purpl...     3.5         28.0   \n",
       "\n",
       "   price                                        description  \\\n",
       "0   2.99  Join over 21,000,000 of our fans and download ...   \n",
       "1   1.99  The classic game of Reversi, also known as Oth...   \n",
       "2   0.00  Play the classic strategy game Othello (also k...   \n",
       "3   0.00  Top 100 free app for over a year.\\nRated \"Best...   \n",
       "4   2.99  \"Senet Deluxe - The Ancient Game of Life and A...   \n",
       "\n",
       "                  developer       bytes                             genres  \\\n",
       "0  Mighty Mighty Good Games  15853568.0            Games, Strategy, Puzzle   \n",
       "1          Kiss The Machine  12328960.0             Games, Strategy, Board   \n",
       "2               Bayou Games    674816.0             Games, Board, Strategy   \n",
       "3  Mighty Mighty Good Games  21552128.0            Games, Strategy, Puzzle   \n",
       "4           RoGame Software  34689024.0  Games, Strategy, Board, Education   \n",
       "\n",
       "   age_rating  num_languages  is_paid  \n",
       "0           0             17     True  \n",
       "1           0              1     True  \n",
       "2           0              1    False  \n",
       "3           0             17    False  \n",
       "4           0             15     True  "
      ]
     },
     "execution_count": 506,
     "metadata": {},
     "output_type": "execute_result"
    }
   ],
   "source": [
    "# map of age ratings to numeric value\n",
    "m = {'4+': 0, '9+': 1, '12+': 2, '17+': 3}\n",
    "\n",
    "# adds a column called 'age_rating' that maps each age rating to a value\n",
    "df['age_rating'] = df.apply(lambda row: m[row['Age Rating']] , axis = 1) \n",
    "\n",
    "# adds a column called 'num_languages' that counts the number of languages an app supports\n",
    "df['num_languages'] = df.apply(lambda row: len(str(row['Languages']).split(',')), axis = 1)\n",
    "\n",
    "# adds a column called 'is_paid' which tells if an app is free or not\n",
    "df['is_paid'] = df.apply(lambda row: row['Price'] > 0, axis = 1)\n",
    "\n",
    "# removes all columns where rating does not exist\n",
    "df = df[df['Average User Rating'].notnull()]\n",
    "\n",
    "# deletes old age rating and languages columns\n",
    "df = df.drop(columns=['Age Rating', 'Languages'])\n",
    "\n",
    "# renames columns\n",
    "df = df.rename(columns={'URL': 'url', 'Name': 'name', 'Icon URL': 'icon_url', 'Average User Rating':'rating', \n",
    "                        'User Rating Count': 'num_ratings', 'Price': 'price', 'Description': 'description', \n",
    "                        'Developer': 'developer', 'Size': 'bytes', 'Genres': 'genres'})\n",
    "\n",
    "df.head()"
   ]
  },
  {
   "cell_type": "markdown",
   "metadata": {},
   "source": [
    "## Data Analysis"
   ]
  },
  {
   "cell_type": "markdown",
   "metadata": {},
   "source": [
    "Now that our data has been parsed we can begin to try and answer some questions using our data.  We can try and look at the 'ratings' column to see how ratings are spread out across apps. Ratings are split by 0.5 intervals from 0-5, and in terms of genres, there are 41 unique genres of games. We can create a heatmap of genres and ratings to see how often each rating is hit, and how they are spread out across different genres. First we will have to create a 2d array, counting the number of times a rating occurs for each genre. Then we can use Matplotlib to create a heatmap where each cell contains the number of ratings for that genre/rating combo.  "
   ]
  },
  {
   "cell_type": "code",
   "execution_count": 507,
   "metadata": {},
   "outputs": [
    {
     "data": {
      "image/png": "[encoded data removed]",
      "text/plain": [
       "<Figure size 864x648 with 2 Axes>"
      ]
     },
     "metadata": {
      "needs_background": "light"
     },
     "output_type": "display_data"
    }
   ],
   "source": [
    "# creates a set of all unique genres\n",
    "genres = set()\n",
    "for g in df['genres'].unique():\n",
    "    lst = g.split(',')\n",
    "    lst = list(map(lambda x: x.strip(), lst))\n",
    "    genres.update(lst)\n",
    "\n",
    "# creates a 2d array where each cell contains the number of ratings for a particular genre/ rating combo\n",
    "arr = []\n",
    "for rating in np.sort(df['rating'].unique()):\n",
    "    row = []\n",
    "    for genre in genres:\n",
    "        row.append(len(df[(df['genres'].str.contains(genre)) & (df['rating'] == rating)]))\n",
    "    arr.append(row)\n",
    "arr = np.array(arr)\n",
    "f, ax = plt.subplots(figsize=(12,9))\n",
    "ax = sns.heatmap( arr ,  xticklabels=genres, yticklabels=np.sort(df['rating'].unique()), linewidth = 1 , cmap = 'coolwarm')\n",
    "\n",
    "plt.title( \"Number of Ratings per Genre Heat Map\" )\n",
    "plt.show()"
   ]
  },
  {
   "cell_type": "markdown",
   "metadata": {},
   "source": [
    "Our data set is based on analyzing strategy games so it makes sense that the darkest spots in our heatmap lie in the Games and Strategy genres. What is interesting is to look at the other categories as well as ratings that show up as more prominent in the heat map. At first glance we can see that a lot of the ratings gather around the 4 - 4.5 mark. It is also interesting to see the natural gradient across the y-axis meaning that the ratings follow an even distribution. If we plot the ratings of a single genre we would expect to see a smooth curve in most genres. \n",
    "\n",
    "Another relationship we can analyze is between age rating and point rating. We can see if more mature games are rated more or less highly than less mature games. Once again we will construct the heatmap in the same way using a 2d array as we did previously with the code above, but this time grouping by age rating. "
   ]
  },
  {
   "cell_type": "code",
   "execution_count": 508,
   "metadata": {},
   "outputs": [
    {
     "data": {
      "image/png": "[encoded data removed]",
      "text/plain": [
       "<Figure size 576x432 with 2 Axes>"
      ]
     },
     "metadata": {
      "needs_background": "light"
     },
     "output_type": "display_data"
    }
   ],
   "source": [
    "# creates a 2d array where each cell contains the number of ratings for a particular age rating/ rating combo\n",
    "arr = []\n",
    "ages = ['4+', '9+', '12+', '17+']\n",
    "for rating in np.sort(df['rating'].unique()):\n",
    "    row = []\n",
    "    for group in np.sort(df['age_rating'].unique()):\n",
    "        row.append(len(df[(df['age_rating'] == group) & (df['rating'] == rating)]))\n",
    "    arr.append(row)\n",
    "    \n",
    "arr = np.array(arr)\n",
    "f, ax = plt.subplots(figsize=(8,6))\n",
    "ax = sns.heatmap( arr ,  xticklabels=ages, yticklabels=np.sort(df['rating'].unique()), linewidth = 1 , cmap = 'coolwarm')\n",
    "\n",
    "plt.title( \"Number of Ratings per Age Rating Heat Map\" )\n",
    "plt.show()"
   ]
  },
  {
   "cell_type": "markdown",
   "metadata": {},
   "source": [
    "Once again we see a similar pattern as we did when looking at the Ratings vs Genre heatmap in that most of the ratings are concentrated around the 4 - 4.5 rating mark. We also can see that more ratings lie in the lower age rating categories. We can theorize that more people are playing games that are available to more audiences, and thus there are much more reviews and ratings for them. "
   ]
  },
  {
   "cell_type": "markdown",
   "metadata": {},
   "source": [
    "We can also take a look at the ratings of each app to see if we can pinpoint what factors may affect the rating of our app. Is it games with a wider audience or maybe cheaper games? First, we can look at the price vs. ratings to see if more expensive games mean higher ratings. We can do this by first only looking at paid games since free games would skew our dataset. Then once again we can use Matplotlib to create a scatter plot of price vs. rating to see if there is any correlation. After creating this scatter plot we can take advantage of Scikit's linear regression functions to create a linear regression model of our data. Once this is done we can plot both the scatter plot and the linear regression line to see if there is indeed a relationship between the two. "
   ]
  },
  {
   "cell_type": "code",
   "execution_count": 509,
   "metadata": {},
   "outputs": [
    {
     "data": {
      "image/png": "[encoded data removed]",
      "text/plain": [
       "<Figure size 432x288 with 1 Axes>"
      ]
     },
     "metadata": {
      "needs_background": "light"
     },
     "output_type": "display_data"
    },
    {
     "name": "stdout",
     "output_type": "stream",
     "text": [
      "Slope of best fit line: 0.012090516771167362\n"
     ]
    }
   ],
   "source": [
    "# creates a new dataframe of only paid apps under $100\n",
    "paid_df = df[(df['is_paid'] == True) & (df['price'] < 100)]\n",
    "\n",
    "# sets up the linear regression model\n",
    "lm = linear_model.LinearRegression()\n",
    "x = np.array(paid_df['price']).reshape(-1,1)\n",
    "y = np.array(paid_df['rating'])\n",
    "lm.fit(x, y)\n",
    "\n",
    "# plots the data line of best fit\n",
    "fig, ax = plt.subplots()\n",
    "\n",
    "ax.set_title(\"Price vs Ratings\")\n",
    "ax.set_xlabel(\"Price in Dollars\")\n",
    "ax.set_ylabel(\"Rating\")\n",
    "\n",
    "ax.scatter(paid_df['price'], paid_df['rating'])\n",
    "ax.plot(np.array(paid_df['price']).reshape(-1,1), lm.predict(np.array(paid_df['price']).reshape(-1,1)), color='red')\n",
    "plt.show()\n",
    "\n",
    "print(\"Slope of best fit line: \" + str(lm.coef_[0]))"
   ]
  },
  {
   "cell_type": "markdown",
   "metadata": {},
   "source": [
    "The scatter plot above helps us compare the relationship between the price of apps on the app store and how highly they are rated. At first glance, we can notice that the data is spread evenly with some outliers around the 4.0 rating mark. Looking at our line we can see a slightly positive slope meaning that there is some correlation between how highly an app is rated and how much it costs. The slope of the line is around 0.01 meaning that for every dollar more an app costs, its ratings should theoretically increase by 0.01 points. Of course, this does not mean that because an app costs more money, it is rated higher, but it is interesting to look at the correlation between these two fields. "
   ]
  },
  {
   "cell_type": "markdown",
   "metadata": {},
   "source": [
    "After creating the scatterplot above I wondered if we could create a stronger positive relationship between ratings and some other field. For example, does the number of languages an app supports have anything to do with how high it is rated on the app store? To test this I repeated the steps above, but this time I used the 'num_languages' column instead of the 'price' column. The code below creates a scatter plot of the number of languages supported vs. rating, then creates a linear regression line and plots it on top. "
   ]
  },
  {
   "cell_type": "code",
   "execution_count": 510,
   "metadata": {},
   "outputs": [
    {
     "data": {
      "image/png": "[encoded data removed]",
      "text/plain": [
       "<Figure size 432x288 with 1 Axes>"
      ]
     },
     "metadata": {
      "needs_background": "light"
     },
     "output_type": "display_data"
    },
    {
     "name": "stdout",
     "output_type": "stream",
     "text": [
      "Slope of best fit line: 0.00299752449632021\n"
     ]
    }
   ],
   "source": [
    "# sets up the linear regression model\n",
    "lm = linear_model.LinearRegression()\n",
    "x = np.array(df['num_languages']).reshape(-1,1)\n",
    "y = np.array(df['rating'])\n",
    "lm.fit(x, y)\n",
    "\n",
    "# plots the data line of best fit\n",
    "fig, ax = plt.subplots()\n",
    "\n",
    "ax.set_title(\"Number of Languages vs Ratings\")\n",
    "ax.set_xlabel(\"Number of Languages Supported\")\n",
    "ax.set_ylabel(\"Rating\")\n",
    "\n",
    "ax.scatter(df['num_languages'], df['rating'])\n",
    "ax.plot(np.array(df['num_languages']).reshape(-1,1), lm.predict(np.array(df['num_languages']).reshape(-1,1)), color='red')\n",
    "plt.show()\n",
    "\n",
    "print(\"Slope of best fit line: \" + str(lm.coef_[0]))"
   ]
  },
  {
   "cell_type": "markdown",
   "metadata": {},
   "source": [
    "From the code above we see that there is almost no relationship between the number of languages supported and the rating of a game. Although one might theorize that the broader the reach an app has, the higher its ratings - the slope of the best fit line is close enough to zero where we can say that there is no relationship."
   ]
  },
  {
   "cell_type": "markdown",
   "metadata": {},
   "source": [
    "## Hypothesis Testing"
   ]
  },
  {
   "cell_type": "markdown",
   "metadata": {},
   "source": [
    "Now that we have explored our data somewhat, we can begin to see if we can seek out answers to our initial questions of what makes an app successful and how can we make a hit app? A part of the motivation behind this tutorial comes from the plethora of mobile game ads that have begun to dominate Youtube as well as other games. Most people should be familiar with ads for simple-minded candy crush knockoffs that seem to dominate ads on every platform. There is an enormous budget for ads for mobile games - which means that these ads work. They do their job of either annoying users into paying a few extra dollars to go add-free, or interesting users into actually downloading the app. Ads have gotten so good that you can even test out an app before downloading or playing it. \n",
    "\n",
    "Analyzing this data, however, is difficult mainly due to the lack of good data on how much companies spend on advertising and app development. However, we can still look at the other factors that may make a git an addicting pastime. My key takeaway is that **successful games are often simple and novel**. We can explore these two hypotheses by looking at relationships in our data to come to a conclusion. \n",
    "\n",
    "---\n",
    "\n",
    "Before we can start to test our hypothesis we need to quickly define what a \"successful\" game is. Since it is hard to access data on app profits we can only consider potential profit as a category for success. To do this we can use the \"num_ratings\" column as well as the \"price\" column for all paid apps and calculate a \"min_profit\" column that holds the minimum amount of money the app has made. This number is a gross underestimate since only a small percentage of people who buy an app chose to leave a review. It is also possible that in some cases, people review apps more than in other cases - meaning that our comparisons would be inaccurate if a less profitable game was reviewed more than a more profitable game, skewing our num"
   ]
  },
  {
   "cell_type": "markdown",
   "metadata": {},
   "source": [
    "To implement our definition of success we will have to create a new column named \"min_profit.\" This column will contain the minimum amount of profit we know a paid app has made and will allow us to compare the success of paid apps in our analysis. To do this we simply multiply the number of reviews against the price of the app to get our value. "
   ]
  },
  {
   "cell_type": "code",
   "execution_count": 511,
   "metadata": {},
   "outputs": [
    {
     "data": {
      "text/html": [
       "<div>\n",
       "<style scoped>\n",
       "    .dataframe tbody tr th:only-of-type {\n",
       "        vertical-align: middle;\n",
       "    }\n",
       "\n",
       "    .dataframe tbody tr th {\n",
       "        vertical-align: top;\n",
       "    }\n",
       "\n",
       "    .dataframe thead th {\n",
       "        text-align: right;\n",
       "    }\n",
       "</style>\n",
       "<table border=\"1\" class=\"dataframe\">\n",
       "  <thead>\n",
       "    <tr style=\"text-align: right;\">\n",
       "      <th></th>\n",
       "      <th>url</th>\n",
       "      <th>name</th>\n",
       "      <th>icon_url</th>\n",
       "      <th>rating</th>\n",
       "      <th>num_ratings</th>\n",
       "      <th>price</th>\n",
       "      <th>description</th>\n",
       "      <th>developer</th>\n",
       "      <th>bytes</th>\n",
       "      <th>genres</th>\n",
       "      <th>age_rating</th>\n",
       "      <th>num_languages</th>\n",
       "      <th>is_paid</th>\n",
       "      <th>min_profit</th>\n",
       "    </tr>\n",
       "  </thead>\n",
       "  <tbody>\n",
       "    <tr>\n",
       "      <th>0</th>\n",
       "      <td>https://apps.apple.com/us/app/sudoku/id284921427</td>\n",
       "      <td>Sudoku</td>\n",
       "      <td>https://is2-ssl.mzstatic.com/image/thumb/Purpl...</td>\n",
       "      <td>4.0</td>\n",
       "      <td>3553.0</td>\n",
       "      <td>2.99</td>\n",
       "      <td>Join over 21,000,000 of our fans and download ...</td>\n",
       "      <td>Mighty Mighty Good Games</td>\n",
       "      <td>15853568.0</td>\n",
       "      <td>Games, Strategy, Puzzle</td>\n",
       "      <td>0</td>\n",
       "      <td>17</td>\n",
       "      <td>True</td>\n",
       "      <td>10623.47</td>\n",
       "    </tr>\n",
       "    <tr>\n",
       "      <th>1</th>\n",
       "      <td>https://apps.apple.com/us/app/reversi/id284926400</td>\n",
       "      <td>Reversi</td>\n",
       "      <td>https://is4-ssl.mzstatic.com/image/thumb/Purpl...</td>\n",
       "      <td>3.5</td>\n",
       "      <td>284.0</td>\n",
       "      <td>1.99</td>\n",
       "      <td>The classic game of Reversi, also known as Oth...</td>\n",
       "      <td>Kiss The Machine</td>\n",
       "      <td>12328960.0</td>\n",
       "      <td>Games, Strategy, Board</td>\n",
       "      <td>0</td>\n",
       "      <td>1</td>\n",
       "      <td>True</td>\n",
       "      <td>565.16</td>\n",
       "    </tr>\n",
       "    <tr>\n",
       "      <th>2</th>\n",
       "      <td>https://apps.apple.com/us/app/morocco/id284946595</td>\n",
       "      <td>Morocco</td>\n",
       "      <td>https://is5-ssl.mzstatic.com/image/thumb/Purpl...</td>\n",
       "      <td>3.0</td>\n",
       "      <td>8376.0</td>\n",
       "      <td>0.00</td>\n",
       "      <td>Play the classic strategy game Othello (also k...</td>\n",
       "      <td>Bayou Games</td>\n",
       "      <td>674816.0</td>\n",
       "      <td>Games, Board, Strategy</td>\n",
       "      <td>0</td>\n",
       "      <td>1</td>\n",
       "      <td>False</td>\n",
       "      <td>0.00</td>\n",
       "    </tr>\n",
       "    <tr>\n",
       "      <th>3</th>\n",
       "      <td>https://apps.apple.com/us/app/sudoku-free/id28...</td>\n",
       "      <td>Sudoku (Free)</td>\n",
       "      <td>https://is3-ssl.mzstatic.com/image/thumb/Purpl...</td>\n",
       "      <td>3.5</td>\n",
       "      <td>190394.0</td>\n",
       "      <td>0.00</td>\n",
       "      <td>Top 100 free app for over a year.\\nRated \"Best...</td>\n",
       "      <td>Mighty Mighty Good Games</td>\n",
       "      <td>21552128.0</td>\n",
       "      <td>Games, Strategy, Puzzle</td>\n",
       "      <td>0</td>\n",
       "      <td>17</td>\n",
       "      <td>False</td>\n",
       "      <td>0.00</td>\n",
       "    </tr>\n",
       "    <tr>\n",
       "      <th>4</th>\n",
       "      <td>https://apps.apple.com/us/app/senet-deluxe/id2...</td>\n",
       "      <td>Senet Deluxe</td>\n",
       "      <td>https://is1-ssl.mzstatic.com/image/thumb/Purpl...</td>\n",
       "      <td>3.5</td>\n",
       "      <td>28.0</td>\n",
       "      <td>2.99</td>\n",
       "      <td>\"Senet Deluxe - The Ancient Game of Life and A...</td>\n",
       "      <td>RoGame Software</td>\n",
       "      <td>34689024.0</td>\n",
       "      <td>Games, Strategy, Board, Education</td>\n",
       "      <td>0</td>\n",
       "      <td>15</td>\n",
       "      <td>True</td>\n",
       "      <td>83.72</td>\n",
       "    </tr>\n",
       "  </tbody>\n",
       "</table>\n",
       "</div>"
      ],
      "text/plain": [
       "                                                 url           name  \\\n",
       "0   https://apps.apple.com/us/app/sudoku/id284921427         Sudoku   \n",
       "1  https://apps.apple.com/us/app/reversi/id284926400        Reversi   \n",
       "2  https://apps.apple.com/us/app/morocco/id284946595        Morocco   \n",
       "3  https://apps.apple.com/us/app/sudoku-free/id28...  Sudoku (Free)   \n",
       "4  https://apps.apple.com/us/app/senet-deluxe/id2...   Senet Deluxe   \n",
       "\n",
       "                                            icon_url  rating  num_ratings  \\\n",
       "0  https://is2-ssl.mzstatic.com/image/thumb/Purpl...     4.0       3553.0   \n",
       "1  https://is4-ssl.mzstatic.com/image/thumb/Purpl...     3.5        284.0   \n",
       "2  https://is5-ssl.mzstatic.com/image/thumb/Purpl...     3.0       8376.0   \n",
       "3  https://is3-ssl.mzstatic.com/image/thumb/Purpl...     3.5     190394.0   \n",
       "4  https://is1-ssl.mzstatic.com/image/thumb/Purpl...     3.5         28.0   \n",
       "\n",
       "   price                                        description  \\\n",
       "0   2.99  Join over 21,000,000 of our fans and download ...   \n",
       "1   1.99  The classic game of Reversi, also known as Oth...   \n",
       "2   0.00  Play the classic strategy game Othello (also k...   \n",
       "3   0.00  Top 100 free app for over a year.\\nRated \"Best...   \n",
       "4   2.99  \"Senet Deluxe - The Ancient Game of Life and A...   \n",
       "\n",
       "                  developer       bytes                             genres  \\\n",
       "0  Mighty Mighty Good Games  15853568.0            Games, Strategy, Puzzle   \n",
       "1          Kiss The Machine  12328960.0             Games, Strategy, Board   \n",
       "2               Bayou Games    674816.0             Games, Board, Strategy   \n",
       "3  Mighty Mighty Good Games  21552128.0            Games, Strategy, Puzzle   \n",
       "4           RoGame Software  34689024.0  Games, Strategy, Board, Education   \n",
       "\n",
       "   age_rating  num_languages  is_paid  min_profit  \n",
       "0           0             17     True    10623.47  \n",
       "1           0              1     True      565.16  \n",
       "2           0              1    False        0.00  \n",
       "3           0             17    False        0.00  \n",
       "4           0             15     True       83.72  "
      ]
     },
     "execution_count": 511,
     "metadata": {},
     "output_type": "execute_result"
    }
   ],
   "source": [
    "# adds a column called 'min_profit' containing the minimum amount of profit an app has made\n",
    "df['min_profit'] = df.apply(lambda row: row['num_ratings'] * row['price'] , axis = 1) \n",
    "df.head()"
   ]
  },
  {
   "cell_type": "markdown",
   "metadata": {},
   "source": [
    "First, we can look at the simplicity of a game as one indicator of how well a game will do on the app store. In terms of simplicity, we can define simple games as having simple mechanics and simple goals. However, building a dataset that includes this information is tedious and almost impossible. A quick shortcut we can use, however, is to look at the size of an app. Large open-world games with complicated controls are often much much larger in size than simple puzzle games. Take a game like Asphalt 8 coming in at 3.3 GB whereas a game like 2048 clocks in at around 65 KB. The discrepancies in size often are a result of discrepancies in the complexity of gameplay. \n",
    "\n",
    "We can take advantage of this idea and say - with a simplifying assumption - that the smaller an app is, the simpler its mechanisms are. Thus we can test our hypothesis that simpler apps do better, but comparing the size of an app to its profit and ratings. In our code below we create a scatter plot comparing the rating of an app with its size in bytes. We use Matplotlib to create the plot and then Scikitlearn to plot a regression line on top:"
   ]
  },
  {
   "cell_type": "code",
   "execution_count": 512,
   "metadata": {},
   "outputs": [
    {
     "data": {
      "image/png": "[encoded data removed]",
      "text/plain": [
       "<Figure size 432x288 with 1 Axes>"
      ]
     },
     "metadata": {
      "needs_background": "light"
     },
     "output_type": "display_data"
    },
    {
     "name": "stdout",
     "output_type": "stream",
     "text": [
      "Slope of best fit line: 1.815449110369132e-10\n"
     ]
    }
   ],
   "source": [
    "# sets up the linear regression model\n",
    "lm = linear_model.LinearRegression()\n",
    "x = np.array(df['bytes']).reshape(-1,1)\n",
    "y = np.array(df['rating'])\n",
    "lm.fit(x, y)\n",
    "\n",
    "# plots the data line of best fit\n",
    "fig, ax = plt.subplots()\n",
    "\n",
    "ax.set_title(\"Number of Bytes vs Ratings\")\n",
    "ax.set_xlabel(\"Bytes\")\n",
    "ax.set_ylabel(\"Rating\")\n",
    "\n",
    "ax.scatter(df['bytes'], df['rating'])\n",
    "ax.plot(np.array(df['bytes']).reshape(-1,1), lm.predict(np.array(df['bytes']).reshape(-1,1)), color='red')\n",
    "plt.show()\n",
    "\n",
    "print(\"Slope of best fit line: \" + str(lm.coef_[0]))"
   ]
  },
  {
   "cell_type": "markdown",
   "metadata": {},
   "source": [
    "In our analysis, we can see that there is a slight positive correlation between how large an app is and how well it is rated. The slope of this line is also much larger than that of the number of languages and the price of an app. The slope above tells us that for every 1 byte larger an app is, its ratings are usually 1.8 x 10^-10 points higher. In more readable terms for every gigabyte larger an app is, its ratings are usually 1 point higher.\n",
    "\n",
    "This contradicts our initial hypothesis that smaller apps will be rater higher. \n",
    "\n",
    "We can also take a look at paid apps with the code below that fits a linear regression model on top of a scatterplot of min_profit vs. ratings. "
   ]
  },
  {
   "cell_type": "code",
   "execution_count": 513,
   "metadata": {},
   "outputs": [
    {
     "data": {
      "image/png": "[encoded data removed]",
      "text/plain": [
       "<Figure size 432x288 with 1 Axes>"
      ]
     },
     "metadata": {
      "needs_background": "light"
     },
     "output_type": "display_data"
    },
    {
     "name": "stdout",
     "output_type": "stream",
     "text": [
      "Slope of best fit line: 2.8363790732039773e-06\n",
      "Number of apps smaller than 1 GB: 7448\n",
      "Number of apps larget than 1 GB: 113\n"
     ]
    }
   ],
   "source": [
    "paid_df = df[df['is_paid'] == True]\n",
    "\n",
    "# sets up the linear regression model\n",
    "lm = linear_model.LinearRegression()\n",
    "x = np.array(paid_df['bytes']).reshape(-1,1)\n",
    "y = np.array(paid_df['min_profit'])\n",
    "lm.fit(x, y)\n",
    "\n",
    "# plots the data line of best fit\n",
    "fig, ax = plt.subplots()\n",
    "\n",
    "ax.set_title(\"Number of Bytes vs Profit\")\n",
    "ax.set_xlabel(\"Bytes\")\n",
    "ax.set_ylabel(\"Min Profit\")\n",
    "\n",
    "ax.scatter(paid_df['bytes'], paid_df['min_profit'])\n",
    "ax.plot(np.array(paid_df['bytes']).reshape(-1,1), lm.predict(np.array(paid_df['bytes']).reshape(-1,1)), color='red')\n",
    "plt.show()\n",
    "\n",
    "print(\"Slope of best fit line: \" + str(lm.coef_[0]))\n",
    "\n",
    "print(\"Number of apps smaller than 1 GB: \" + str(len(df[df['bytes'] < 1000000000])))\n",
    "print(\"Number of apps larget than 1 GB: \" + str(len(df[df['bytes']  > 1000000000])))"
   ]
  },
  {
   "cell_type": "markdown",
   "metadata": {},
   "source": [
    "From the scatterplot above we can also see a slight positive relationship between profit and the size of an app. At first glance, it seems that the relationship should be negative, but the large concentration of small apps with small profits creates a best fit line with a positive slope. This graph, along with the graph measuring ratings of apps in relation to size of the app, both point toward the conclusion that the larger an app is the more \"success\" it has. \n",
    "\n",
    "In retrospect, it makes sense that larger more complex apps often outlive simple apps that are more like fads than addicting games. Lager apps would make sense to in the longer term churn a higher profit as well as be more highly rated. Looking at the number of smaller apps in our data, it also may be that small apps only seem to be successful because of the sheer number of them produced by mobile game companies. Running the code below reveals that from our dataset over 7000 apps are smaller than 1 GB while only 113 are larger than 1 GB. Since there are more small apps, I predicted that they would have greater individual success, but it seems like based on the data larger apps are more successful in the end. "
   ]
  },
  {
   "cell_type": "markdown",
   "metadata": {},
   "source": [
    "---\n",
    "\n",
    "Our next step is to test the second phase of our hypothesis which has to do with measuring the novelty of an app. Novelty is an interesting problem to consider since many apps nowadays are just rip-offs of more popular apps with a few tweaks here and there. To measure the novelty of each app we will use the description of each app. We will use a technique similar to that of [Bag of Words](https://en.wikipedia.org/wiki/Bag-of-words_model) to find out how unique each description is.\n",
    "\n",
    "The basic idea for this step is to first compile a list of all unique words across all of our app descriptions. Then for each app, we can create a vector corresponding to this list of unique words, where the value is the number of occurrences of a certain word in its description. Once we have created vectors for each app description, we can find which vector is least similar to all the others by first finding a mean vector, and then finding the distance between each vector and the mean vector. This number will be our novelty score. If a vector is similar to a lot of other vectors, it will have a low uniqueness score since the distance will be small. On the other hand, if a vector is dissimilar, its distance will be larger and so will its uniqueness score. "
   ]
  },
  {
   "cell_type": "code",
   "execution_count": 514,
   "metadata": {},
   "outputs": [],
   "source": [
    "# creates a set of all unique words\n",
    "words = {''}\n",
    "length = len(df)\n",
    "\n",
    "for index, row in df.iterrows():\n",
    "    lst = list(map(lambda x: x.lower(), re.split(r' |\\\\n|\\\\u', row['description'])))\n",
    "    lst = list(filter(lambda x: len(x) >= 5, lst))\n",
    "    words.update(lst)\n",
    "    \n",
    "words = list(words)"
   ]
  },
  {
   "cell_type": "code",
   "execution_count": 515,
   "metadata": {},
   "outputs": [
    {
     "name": "stdout",
     "output_type": "stream",
     "text": [
      "7561/7561\r"
     ]
    }
   ],
   "source": [
    "# creates vectors based on occurences of words in description\n",
    "cols = []\n",
    "count = 0\n",
    "\n",
    "for index, row in df.iterrows():    \n",
    "    count += 1\n",
    "    vector = np.zeros(len(words))\n",
    "    \n",
    "    lst = list(map(lambda x: x.lower(), re.split(r' |\\\\n|\\\\u', row['description'])))\n",
    "    lst = list(filter(lambda x: len(x) >= 5, lst))\n",
    "\n",
    "    for word in lst:\n",
    "        vector[words.index(word)] += 1\n",
    "    cols.append(vector)\n",
    "    print(str(count) + \"/\" + str(length), end='\\r')\n",
    "\n",
    "df['vector'] = cols"
   ]
  },
  {
   "cell_type": "code",
   "execution_count": 516,
   "metadata": {},
   "outputs": [],
   "source": [
    "# finds mean vector\n",
    "mean = np.mean(cols, axis=0)\n",
    "sums = []\n",
    "\n",
    "# find distance between each vector and mean vector\n",
    "for index, row in df.iterrows():\n",
    "    s = 0;    \n",
    "    v = row['vector']\n",
    "    s += np.sum(np.square(v - mean))\n",
    "    sums.append(s)\n",
    "\n",
    "df['novelty'] = sums"
   ]
  },
  {
   "cell_type": "markdown",
   "metadata": {},
   "source": [
    "After running the code above we have calculated a uniqueness or novelty score for each app in our dataset. Our next step is to graph our results to see if there is indeed a correlation. Similar to before, we will first create a new dataframe that contains a majority of the novelty scores (since there are a few outliers that make the graph difficult to read). Then we will create a scatter plot using Matplotlib of novelty score vs. ratings and plot a regression line on top of this using Scikitlearn. "
   ]
  },
  {
   "cell_type": "code",
   "execution_count": 517,
   "metadata": {},
   "outputs": [
    {
     "data": {
      "image/png": "[encoded data removed]",
      "text/plain": [
       "<Figure size 432x288 with 1 Axes>"
      ]
     },
     "metadata": {
      "needs_background": "light"
     },
     "output_type": "display_data"
    }
   ],
   "source": [
    "normal = df[df['novelty'] < 4000] \n",
    "\n",
    "# sets up the linear regression model\n",
    "lm = linear_model.LinearRegression()\n",
    "x = np.array(normal['novelty']).reshape(-1,1)\n",
    "y = np.array(normal['rating'])\n",
    "lm.fit(x, y)\n",
    "\n",
    "# plots the data line of best fit\n",
    "fig, ax = plt.subplots()\n",
    "\n",
    "ax.set_title(\"Novelty vs Ratings\")\n",
    "ax.set_xlabel(\"Novelty\")\n",
    "ax.set_ylabel(\"Rating\")\n",
    "\n",
    "ax.scatter(normal['novelty'], normal['rating'])\n",
    "ax.plot(np.array(normal['novelty']).reshape(-1,1), lm.predict(np.array(normal['novelty']).reshape(-1,1)), color='red')\n",
    "plt.show()"
   ]
  },
  {
   "cell_type": "markdown",
   "metadata": {},
   "source": [
    "Looking at our graph above we can see that there is indeed a positive correlation between novelty and the rating of an app. The slope of the line is positive enough to where we can say there is a correlation between how novel or unique an app's description is, and how well it does on the app store.\n",
    "\n",
    "We can also look at success for paid apps by looking at novelty vs. min_profit. We can once again create a new dataframe containing only paid apps, then repeat the steps above to get a scatter plot and best fit line. "
   ]
  },
  {
   "cell_type": "code",
   "execution_count": 518,
   "metadata": {},
   "outputs": [
    {
     "data": {
      "image/png": "[encoded data removed]",
      "text/plain": [
       "<Figure size 432x288 with 1 Axes>"
      ]
     },
     "metadata": {
      "needs_background": "light"
     },
     "output_type": "display_data"
    }
   ],
   "source": [
    "paid_df = df[(df['novelty'] < 4000) & (df['is_paid'] == True)] \n",
    "\n",
    "# sets up the linear regression model\n",
    "lm = linear_model.LinearRegression()\n",
    "x = np.array(paid_df['novelty']).reshape(-1,1)\n",
    "y = np.array(paid_df['min_profit'])\n",
    "lm.fit(x, y)\n",
    "\n",
    "# plots the data line of best fit\n",
    "fig, ax = plt.subplots()\n",
    "\n",
    "ax.set_title(\"Novelty vs Profit\")\n",
    "ax.set_xlabel(\"Novelty\")\n",
    "ax.set_ylabel(\"Min Profit\")\n",
    "\n",
    "ax.scatter(paid_df['novelty'], paid_df['min_profit'])\n",
    "ax.plot(np.array(paid_df['novelty']).reshape(-1,1), lm.predict(np.array(paid_df['novelty']).reshape(-1,1)), color='red')\n",
    "plt.show()"
   ]
  },
  {
   "cell_type": "markdown",
   "metadata": {},
   "source": [
    "Here we can once again see that there does exist a slight positive slope to our regression line telling us that there is some correlation between how novel an app is and how much profit it makes. From this and our previous graph, we can conclude that there may be a relationship between how unique an app's description is to how well it does. This supports our initial hypothesis that for an app to do better on the app store it should be unique and not a rip-off of other games. "
   ]
  },
  {
   "cell_type": "markdown",
   "metadata": {},
   "source": [
    "## Conclusions"
   ]
  },
  {
   "cell_type": "markdown",
   "metadata": {},
   "source": [
    "\n",
    "Through our analysis, we have explored many parts of the dataset on apps from the Apple app store. We looked at heat maps of our data to get a better understanding of how our data was spread out, and we looked at a lot of different scatter plots to get a better idea of the relationships between different parts of our data. After analyzing our data, we created a hypothesis that simple and novel apps do better on the app store. We then were able to explore this idea by looking at scatter plots of how well an app performs correlated with how large it was or how novel it was. From our testing, we found that larger or more complex apps are often rated higher and bring in more revenue than simpler apps. We also found that the more unique an app's description was, the higher or more profitable it seemed to be. \n",
    "\n",
    "There are still many different areas to explore this dataset and ways to make this tutorial your own. You can always take a look at the app icons, included in the dataset, to see if an app's icon has any influence on how well it does on the app store. One might theorize that maybe more colorful or more unique app icons can have some correlation with how well the app does. Beyond this, there is so much more data left to be explored and analyzed within the Apple App Store. In our Data Collection step, I outlined the code for scraping a single page into a JSON object with data about the app. You can always look at different genres of games, or different kinds of apps, in general, to see if you can make any meaningful analysis on these. This tutorial provides the baseline for you to be able to explore data science and gives you a sample of what can be done by analyzing data. "
   ]
  }
 ],
 "metadata": {
  "kernelspec": {
   "display_name": "Python 3",
   "language": "python",
   "name": "python3"
  },
  "language_info": {
   "codemirror_mode": {
    "name": "ipython",
    "version": 3
   },
   "file_extension": ".py",
   "mimetype": "text/x-python",
   "name": "python",
   "nbconvert_exporter": "python",
   "pygments_lexer": "ipython3",
   "version": "3.8.5"
  }
 },
 "nbformat": 4,
 "nbformat_minor": 4
}
